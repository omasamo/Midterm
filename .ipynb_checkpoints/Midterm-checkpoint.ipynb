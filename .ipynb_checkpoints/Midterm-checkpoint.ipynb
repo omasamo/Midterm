{
 "cells": [
  {
   "cell_type": "code",
   "execution_count": 2,
   "metadata": {},
   "outputs": [],
   "source": [
    "import requests\n",
    "import bs4\n",
    "import pandas as pd\n",
    "import json"
   ]
  },
  {
   "cell_type": "code",
   "execution_count": 3,
   "metadata": {},
   "outputs": [],
   "source": [
    "###API post login \n",
    "URLogin = 'https://ies-midterm.soulution.rocks/login/'\n",
    "authentication = {\"cuni\":\"12199436\"}\n",
    "r = requests.post(url = URLogin, json = authentication )"
   ]
  },
  {
   "cell_type": "code",
   "execution_count": 4,
   "metadata": {},
   "outputs": [
    {
     "name": "stdout",
     "output_type": "stream",
     "text": [
      "<html>\n",
      " <body>\n",
      "  <p>\n",
      "   {\"data\": {\"personal_code\": \"ba41c125\", \"dataset_ids\": [\"098b83ee51\", \"3e8641892a\", \"403c8fd1da\", \"557b58dd1d\"]}, \"message\": \"Hello, Bo\\u017eo\\u0148 Samuel! Good luck with the midterm. GET your data set from /data/file_id endpoint; use the codes you received in the data response as the file_id parameter! Print the personal code in your notebook.\"}\n",
      "  </p>\n",
      " </body>\n",
      "</html>\n"
     ]
    }
   ],
   "source": [
    "#info for getting datasets\n",
    "soup = bs4.BeautifulSoup(r.text,'lxml')\n",
    "print(soup.prettify())"
   ]
  },
  {
   "cell_type": "code",
   "execution_count": null,
   "metadata": {},
   "outputs": [],
   "source": [
    "#print personal number"
   ]
  },
  {
   "cell_type": "code",
   "execution_count": 39,
   "metadata": {},
   "outputs": [],
   "source": [
    "#requesting datasets handling exceptions\n",
    "logins = ['https://ies-midterm.soulution.rocks/data/557b58dd1d',\n",
    "          'https://ies-midterm.soulution.rocks/data/403c8fd1da',\n",
    "          'https://ies-midterm.soulution.rocks/data/3e8641892a',\n",
    "          'https://ies-midterm.soulution.rocks/data/3e8641892a']\n",
    "a = []\n",
    "i=0\n",
    "headers = {'User-Agent': 'Mozilla/5.0 (Windows NT 6.1) AppleWebKit/537.36 (KHTML, like Gecko) Chrome/41.0.2228.0 Safari/537.36',}\n",
    "for l in logins:\n",
    "    hd = False\n",
    "    while hd == False:\n",
    "        try:\n",
    "            requests.get(url=l, headers=headers)\n",
    "            hd = True\n",
    "        except requests.ConnectionError:\n",
    "            hd = False\n",
    "    date = requests.get(url=l, headers=headers)\n",
    "    soup = bs4.BeautifulSoup(data.text,'lxml')\n",
    "    a.append(soup)"
   ]
  },
  {
   "cell_type": "code",
   "execution_count": 40,
   "metadata": {},
   "outputs": [
    {
     "name": "stdout",
     "output_type": "stream",
     "text": [
      "0    {\"data\": {\"company\": \"BHP\", \"data\": [{\"Date\": ...\n",
      "Name: 0, dtype: object\n",
      "0    {\"data\": {\"company\": \"BHP\", \"data\": [{\"Date\": ...\n",
      "Name: 0, dtype: object\n",
      "0    {\"data\": {\"company\": \"BHP\", \"data\": [{\"Date\": ...\n",
      "Name: 0, dtype: object\n",
      "0    {\"data\": {\"company\": \"BHP\", \"data\": [{\"Date\": ...\n",
      "Name: 0, dtype: object\n"
     ]
    }
   ],
   "source": [
    "jsondata = []\n",
    "for x in a:\n",
    "    df = pd.DataFrame(x.find_all(\"p\"))\n",
    "\n",
    "    \n",
    "                    \n",
    "\n"
   ]
  },
  {
   "cell_type": "code",
   "execution_count": 56,
   "metadata": {},
   "outputs": [
    {
     "name": "stdout",
     "output_type": "stream",
     "text": [
      "0    {\"data\": {\"company\": \"BHP\", \"data\": [{\"Date\": ...\n",
      "Name: 0, dtype: object\n",
      "0    {\"data\": {\"company\": \"BHP\", \"data\": [{\"Date\": ...\n",
      "Name: 0, dtype: object\n"
     ]
    },
    {
     "ename": "TypeError",
     "evalue": "'NoneType' object is not subscriptable",
     "output_type": "error",
     "traceback": [
      "\u001b[1;31m---------------------------------------------------------------------------\u001b[0m",
      "\u001b[1;31mTypeError\u001b[0m                                 Traceback (most recent call last)",
      "\u001b[1;32m<ipython-input-56-e3f286a45e93>\u001b[0m in \u001b[0;36m<module>\u001b[1;34m\u001b[0m\n\u001b[0;32m      3\u001b[0m \u001b[0mdf1\u001b[0m \u001b[1;33m=\u001b[0m \u001b[0mpd\u001b[0m\u001b[1;33m.\u001b[0m\u001b[0mDataFrame\u001b[0m\u001b[1;33m(\u001b[0m\u001b[0ma\u001b[0m\u001b[1;33m[\u001b[0m\u001b[1;36m0\u001b[0m\u001b[1;33m]\u001b[0m\u001b[1;33m.\u001b[0m\u001b[0mfind_all\u001b[0m\u001b[1;33m(\u001b[0m\u001b[1;34m\"p\"\u001b[0m\u001b[1;33m)\u001b[0m\u001b[1;33m)\u001b[0m\u001b[1;33m[\u001b[0m\u001b[1;36m0\u001b[0m\u001b[1;33m]\u001b[0m\u001b[1;33m\u001b[0m\u001b[1;33m\u001b[0m\u001b[0m\n\u001b[0;32m      4\u001b[0m \u001b[0mdf2\u001b[0m \u001b[1;33m=\u001b[0m \u001b[0mpd\u001b[0m\u001b[1;33m.\u001b[0m\u001b[0mSeries\u001b[0m\u001b[1;33m(\u001b[0m\u001b[0mdf1\u001b[0m\u001b[1;33m)\u001b[0m\u001b[1;33m\u001b[0m\u001b[1;33m\u001b[0m\u001b[0m\n\u001b[1;32m----> 5\u001b[1;33m \u001b[0mprint\u001b[0m\u001b[1;33m(\u001b[0m\u001b[0mdf2\u001b[0m\u001b[1;33m)\u001b[0m\u001b[1;33m[\u001b[0m\u001b[1;34m\"company\"\u001b[0m\u001b[1;33m]\u001b[0m\u001b[1;33m\u001b[0m\u001b[1;33m\u001b[0m\u001b[0m\n\u001b[0m",
      "\u001b[1;31mTypeError\u001b[0m: 'NoneType' object is not subscriptable"
     ]
    }
   ],
   "source": [
    "df = pd.DataFrame(a[0].find_all(\"p\"))\n",
    "print (df[0])\n",
    "df1 = pd.DataFrame(a[0].find_all(\"p\"))[0]\n",
    "df2 = pd.Series(df1)\n",
    "print(df2)[\"company\"]\n"
   ]
  },
  {
   "cell_type": "code",
   "execution_count": null,
   "metadata": {},
   "outputs": [],
   "source": []
  }
 ],
 "metadata": {
  "kernelspec": {
   "display_name": "Python 3",
   "language": "python",
   "name": "python3"
  },
  "language_info": {
   "codemirror_mode": {
    "name": "ipython",
    "version": 3
   },
   "file_extension": ".py",
   "mimetype": "text/x-python",
   "name": "python",
   "nbconvert_exporter": "python",
   "pygments_lexer": "ipython3",
   "version": "3.8.5"
  }
 },
 "nbformat": 4,
 "nbformat_minor": 4
}
